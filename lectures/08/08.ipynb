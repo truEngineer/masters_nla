{
 "cells": [
  {
   "cell_type": "markdown",
   "metadata": {
    "slideshow": {
     "slide_type": "slide"
    }
   },
   "source": [
    "# Лекция 8. Разреженные матрицы и прямые методы для решения больших разреженных систем"
   ]
  },
  {
   "cell_type": "markdown",
   "metadata": {
    "slideshow": {
     "slide_type": "slide"
    }
   },
   "source": [
    "## План на сегодняшнюю лекцию\n",
    "\n",
    "- Плотные неструктурированные матрицы и распределённое хранение\n",
    "- Разреженные матрицы и форматы их представления\n",
    "- Быстрая реализация умножения разреженной матрицы на вектор \n",
    "- Метод Гаусса для разреженных матриц: упорядоченность\n",
    "- Заполнение и графы: сепараторы\n",
    "- Лапласиан графа"
   ]
  },
  {
   "cell_type": "markdown",
   "metadata": {
    "slideshow": {
     "slide_type": "slide"
    }
   },
   "source": [
    "## Плотные матрицы большой размерности\n",
    "\n",
    "- Если размер матрицы очень большой, то она не помещается в память\n",
    "- Возможные способы работы с такими матрицами\n",
    "    - Если матрица **структурирована**, например блочно Тёплицева с Тёплицевыми блоками (в следующих лекциях), тогда возможно сжатое хранение\n",
    "    - Для неструктурированных матриц помогает **распределённая память**\n",
    "    - MPI для обработки распределённо хранимых матриц"
   ]
  },
  {
   "cell_type": "markdown",
   "metadata": {
    "slideshow": {
     "slide_type": "slide"
    }
   },
   "source": [
    "### Распределённая память и MPI\n",
    "\n",
    "- Разбиваем матрицу на блоки и храним их на различных машинах\n",
    "- Каждая машина имеет своё собственное адресное пространство и не может повредить данные на других машинах\n",
    "- В этом случае машины передают друг другу данные для агрегирования результата вычислений\n",
    "- [MPI (Message Passing Interface)](https://en.wikipedia.org/wiki/Message_Passing_Interface) – стандарт в параллельных вычислениях с распределённой памятью"
   ]
  },
  {
   "cell_type": "markdown",
   "metadata": {
    "slideshow": {
     "slide_type": "slide"
    }
   },
   "source": [
    "### Пример: умножение матрицы на вектор\n",
    "\n",
    "- Предположим, вы хотите посчитать произведение $Ax$ и матрица $A$ не помещается в памяти\n",
    "- В этом случае вы можете разбить матрицу на блоки и поместить их на разные машины\n",
    "- Возможные стратегии:\n",
    "    - Одномерное деление на блоки использует только строки\n",
    "    - Двумерное деление на блоки использует и строки и столбцы"
   ]
  },
  {
   "cell_type": "markdown",
   "metadata": {
    "slideshow": {
     "slide_type": "slide"
    }
   },
   "source": [
    "#### Пример одномерного деления на блоки\n",
    "<img src=\"./1d_block.jpg\">"
   ]
  },
  {
   "cell_type": "markdown",
   "metadata": {
    "slideshow": {
     "slide_type": "slide"
    }
   },
   "source": [
    "#### Общее время вычисления произведения матрицы на вектор для одномерного разбиения на блоки\n",
    "\n",
    "- Каждая машина хранит $n / p $ полных строк и $n / p$ элементов вектора $x$\n",
    "- Общее число операций $n^2 / p$\n",
    "- Общее время для отправки и записи данных $t_s \\log p + t_w n$, где $t_s$ – единица времени на отправку и $t_w$ – единица времени на запись"
   ]
  },
  {
   "cell_type": "markdown",
   "metadata": {
    "slideshow": {
     "slide_type": "slide"
    }
   },
   "source": [
    "#### Пример двумерного деления на блоки\n",
    "\n",
    "<img src=\"./2d_block.png\" width=400>"
   ]
  },
  {
   "cell_type": "markdown",
   "metadata": {
    "slideshow": {
     "slide_type": "slide"
    }
   },
   "source": [
    "#### Общее время вычисления умножения матрицы на вектор с использованием двумерного разбиения на блоки\n",
    "\n",
    "- Каждая машина хранит блок размера $n / \\sqrt{p} $ и $n / \\sqrt{p}$ элементов вектора\n",
    "- Общее число операций $n^2 / p$\n",
    "- Общее время для отправки и записи данных примерно равно $t_s \\log p + t_w (n/\\sqrt{p}) \\log p$, где $t_s$ – единица времени на отправку и $t_w$ – единица времени на запись"
   ]
  },
  {
   "cell_type": "markdown",
   "metadata": {
    "slideshow": {
     "slide_type": "slide"
    }
   },
   "source": [
    "### Пакеты с поддержкой распределённого хранения данных\n",
    "\n",
    "- [ScaLAPACK](http://www.netlib.org/scalapack/)\n",
    "- [Trilinos](https://trilinos.org/)\n",
    "\n",
    "В Python вы можете использовать [mpi4py](https://mpi4py.readthedocs.io/en/stable/) для параллельной реализации ваших алгоритмов.\n",
    "\n",
    "- PyTorch поддерживает распределённое обучение и хранение данных, см подробности [тут](https://pytorch.org/tutorials/intermediate/dist_tuto.html) "
   ]
  },
  {
   "cell_type": "markdown",
   "metadata": {
    "slideshow": {
     "slide_type": "slide"
    }
   },
   "source": [
    "### Резюме про работу с большими плотными неструктурированными матрицами\n",
    "\n",
    "- Распределённое хранение матриц\n",
    "- MPI\n",
    "- Пакеты, которые используют блочные вычисления\n",
    "- Различные подходы к блочным вычислениям"
   ]
  },
  {
   "cell_type": "markdown",
   "metadata": {
    "slideshow": {
     "slide_type": "slide"
    }
   },
   "source": [
    "## Разреженные матрицы\n",
    "\n",
    "- Ограничением в решении задач линейной алгебры с плотными матрицами является память, требуемая для хранения плотных матриц, $N^2$ элементов.\n",
    "\n",
    "- Разреженные матрицы, где большинство элементов нулевые позволяют по крайней мере хранить их в памяти.\n",
    "\n",
    "- Основные вопросы: можем ли мы решать следующие задачи для разреженных матриц?\n",
    "    - решение линейных систем\n",
    "    - вычисление собственных значений и собственных векторов\n",
    "    - вычисление матричных функций"
   ]
  },
  {
   "cell_type": "markdown",
   "metadata": {
    "slideshow": {
     "slide_type": "slide"
    }
   },
   "source": [
    "## Приложения разреженных матриц\n",
    "\n",
    "Разреженные матрицы возникают в следующих областях:\n",
    "\n",
    "- математическое моделирование и решение уравнений в частных производных\n",
    "- обработка графов, например анализ социальных сетей\n",
    "- рекомендательные системы\n",
    "- в целом там, где отношения между объектами \"разрежены\"."
   ]
  },
  {
   "cell_type": "markdown",
   "metadata": {
    "slideshow": {
     "slide_type": "slide"
    }
   },
   "source": [
    "### Разреженные матрицы помогают в вычислительной теории графов \n",
    "\n",
    "- Графы представляют в виде матриц смежности, которые чаще всего разрежены\n",
    "- Численное решение задач теории графов сводится к операциям с этими разреженными матрицами\n",
    "    - Кластеризация графа и выделение сообществ\n",
    "    - Ранжирование\n",
    "    - Случайные блуждатели\n",
    "    - И другие....\n",
    "- Пример: возможно, самый большой доступный граф гиперссылок содержит 3.5 миллиарда веб-страниц и 128 миллиардов гиперссылок, больше подробностей см. [тут](http://webdatacommons.org/hyperlinkgraph/) \n",
    "- Различные графы среднего размера для тестирования ваших алгоритмов доступны в [Stanford Large Network Dataset Collection](https://snap.stanford.edu/data/)"
   ]
  },
  {
   "cell_type": "markdown",
   "metadata": {
    "slideshow": {
     "slide_type": "slide"
    }
   },
   "source": [
    "### Florida sparse matrix collection\n",
    "\n",
    "- Большое количество разреженных матриц из различных приложений вы можете найти в [Florida sparse matrix collection](http://www.cise.ufl.edu/research/sparse/matrices/)."
   ]
  },
  {
   "cell_type": "code",
   "execution_count": null,
   "metadata": {
    "slideshow": {
     "slide_type": "slide"
    }
   },
   "outputs": [],
   "source": [
    "from IPython.display import IFrame\n",
    "IFrame('http://yifanhu.net/GALLERY/GRAPHS/search.html', 500, 500)"
   ]
  },
  {
   "cell_type": "markdown",
   "metadata": {
    "slideshow": {
     "slide_type": "slide"
    }
   },
   "source": [
    "### Разреженные матрицы и глубокое обучение\n",
    "\n",
    "- DNN имеют очень много параметров\n",
    "- Некоторые из них могут быть избыточными\n",
    "- Как уменьшить число параметров без серьёзной потери в точности?\n",
    "- [Sparse variational dropout method](https://github.com/ars-ashuha/variational-dropout-sparsifies-dnn) даёт существенно разреженные фильтры в DNN почти без потери точности!"
   ]
  },
  {
   "cell_type": "markdown",
   "metadata": {
    "slideshow": {
     "slide_type": "slide"
    }
   },
   "source": [
    "## Построение разреженных матриц\n",
    "\n",
    "- Мы можем генерировать разреженные матрицы с помощью пакета ```scipy.sparse```\n",
    "\n",
    "- Можно задать матрицы очень большого размера\n",
    "\n",
    "Полезные функции при создании разреженных матриц:\n",
    "- для созданий диагональной матрицы с заданными диагоналями ```spdiags```\n",
    "- Кронекерово произведение (определение будет далее) разреженных матриц ```kron```\n",
    "- также арифметические операции для разреженных матриц перегружены"
   ]
  },
  {
   "cell_type": "markdown",
   "metadata": {
    "slideshow": {
     "slide_type": "slide"
    }
   },
   "source": [
    "### Кронекерово произведение\n",
    "\n",
    "Для матриц $A\\in\\mathbb{R}^{n\\times m}$ и $B\\in\\mathbb{R}^{l\\times k}$ Кронекерово произведение определяется как блочная матрица следующего вида\n",
    "\n",
    "$$\n",
    "   A\\otimes B = \\begin{bmatrix}a_{11}B & \\dots & a_{1m}B \\\\ \\vdots & \\ddots & \\vdots \\\\ a_{n1}B & \\dots & a_{nm}B\\end{bmatrix}\\in\\mathbb{R}^{nl\\times mk}.\n",
    "$$\n",
    "\n",
    "Основные свойства:\n",
    "- билинейность\n",
    "- $(A\\otimes B) (C\\otimes D) = AC \\otimes BD$\n",
    "- Пусть $\\mathrm{vec}(X)$ оператор векторизации матрицы по столбцам. Тогда \n",
    "$\\mathrm{vec}(AXB) = (B^T \\otimes A) \\mathrm{vec}(X).$"
   ]
  },
  {
   "cell_type": "code",
   "execution_count": null,
   "metadata": {
    "slideshow": {
     "slide_type": "slide"
    }
   },
   "outputs": [],
   "source": [
    "import numpy as np\n",
    "import scipy as sp\n",
    "import scipy.sparse\n",
    "from scipy.sparse import csc_matrix, csr_matrix\n",
    "import matplotlib.pyplot as plt\n",
    "import scipy.linalg\n",
    "import scipy.sparse.linalg\n",
    "%matplotlib inline\n",
    "n = 5\n",
    "ex = np.ones(n);\n",
    "lp1 = sp.sparse.spdiags(np.vstack((ex,  -2*ex, ex)), [-1, 0, 1], n, n, 'csr'); \n",
    "e = sp.sparse.eye(n)\n",
    "A = sp.sparse.kron(lp1, e) + sp.sparse.kron(e, lp1)\n",
    "A = csc_matrix(A)\n",
    "plt.spy(A, aspect='equal', marker='.', markersize=5)"
   ]
  },
  {
   "cell_type": "markdown",
   "metadata": {
    "slideshow": {
     "slide_type": "slide"
    }
   },
   "source": [
    "### Шаблон разреженности\n",
    "\n",
    "- Команда ```spy``` рисует шаблон разреженности данной матрицы: пиксель $(i, j)$ отображается на рисунке, если соответствующий элемент матрицы ненулевой.\n",
    "\n",
    "- Шаблон разреженности действительно очень важен для понимания сложности алгоритмов линейной алгебры для разреженных матриц.  \n",
    "\n",
    "- Зачастую шаблона разреженности достаточно для анализа того, насколько \"сложно\" работать с этой матрицей."
   ]
  },
  {
   "cell_type": "markdown",
   "metadata": {
    "slideshow": {
     "slide_type": "slide"
    }
   },
   "source": [
    "### Определение разреженных матриц\n",
    "\n",
    "- Разреженные матрицы – это матрицы, такие что количество ненулевых элементов в них существенно меньше общего числа элементов в матрице. \n",
    "\n",
    "- Из-за этого вы можете выполнять базовые операции линейной алгебры (прежде всего решать линейные системы) гораздо быстрее по сравнению с использованием плотных матриц."
   ]
  },
  {
   "cell_type": "markdown",
   "metadata": {
    "slideshow": {
     "slide_type": "slide"
    }
   },
   "source": [
    "## Что нам необходимо, чтобы увидеть, как это работает\n",
    "\n",
    "- **Вопрос 1:** Как хранить разреженные матрицы в памяти?\n",
    "\n",
    "- **Вопрос 2:** Как умножить разреженную матрицу на вектор быстро?\n",
    "\n",
    "- **Вопрос 3:** Как быстро решать линейные системы с разреженными матрицами?"
   ]
  },
  {
   "cell_type": "markdown",
   "metadata": {
    "slideshow": {
     "slide_type": "slide"
    }
   },
   "source": [
    "### Хранение разреженных матриц\n",
    "\n",
    "Существет много форматов хранения разреженных матриц, наиболее важные:\n",
    "\n",
    "- COO (координатный формат)\n",
    "- LIL (список списков)\n",
    "- CSR (compressed sparse row)\n",
    "- CSC (compressed sparse column)\n",
    "- блочные варианты\n",
    "\n",
    "В ```scipy``` представлены конструкторы для каждого из этих форматов, например\n",
    "\n",
    "```scipy.sparse.lil_matrix(A)```."
   ]
  },
  {
   "cell_type": "markdown",
   "metadata": {
    "slideshow": {
     "slide_type": "slide"
    }
   },
   "source": [
    "#### Координатный формат (COO)\n",
    "\n",
    "- Простейший формат хранения разреженной матрицы – координатный. \n",
    "- В этом формате разреженная матрица – это набор индексов и значений в этих индексах.\n",
    "\n",
    "```python\n",
    "i, j, val\n",
    "```\n",
    "\n",
    "где ```i, j``` массивы индексов, ```val``` массив элементов матрицы. <br>\n",
    "\n",
    "- Таким образом, нам нужно хранить $3\\cdot$**nnz** элементов, где **nnz** обозначает число ненулевых элементов в матрице.\n",
    "\n",
    "**Q:** Что хорошего и что плохого в использовании такого формата?"
   ]
  },
  {
   "cell_type": "markdown",
   "metadata": {
    "slideshow": {
     "slide_type": "slide"
    }
   },
   "source": [
    "#### Основные недостатки\n",
    "\n",
    "- Он неоптимален по памяти (почему?)\n",
    "- Он неоптимален для умножения матрицы на вектор (почему?)\n",
    "- Он неоптимален для удаления элемента (почему?)\n",
    "\n",
    "Первые два недостатка решены в формате CSR.\n",
    "\n",
    "**Q**: какой формат решает третий недостаток? "
   ]
  },
  {
   "cell_type": "markdown",
   "metadata": {
    "slideshow": {
     "slide_type": "slide"
    }
   },
   "source": [
    "#### Compressed sparse row (CSR)\n",
    "\n",
    "В формате CSR матрица хранится также с помощью трёх массивов, но других:\n",
    "\n",
    "```python\n",
    "ia, ja, sa\n",
    "```\n",
    "\n",
    "где:\n",
    "\n",
    "- **ia** (начало строк) массив целых чисел длины $n+1$ \n",
    "- **ja** (индексы столбцов) массив целых чисел длины **nnz** \n",
    "-  **sa** (элементы матрицы) массив действительных чисел длины **nnz**\n",
    "\n",
    "<img src=\"https://www.karlrupp.net/wp-content/uploads/2016/02/csr_storage_sparse_marix.png\" width=60% />\n",
    "\n",
    "Итак, всего необходимо хранить $2\\cdot{\\bf nnz} + n+1$ элементов."
   ]
  },
  {
   "cell_type": "markdown",
   "metadata": {
    "slideshow": {
     "slide_type": "slide"
    }
   },
   "source": [
    "### Разреженные матрицы в PyTorch, Tensorflow и JAX\n",
    "\n",
    "- PyTorch поддерживает разреженные матрицы в формате COO\n",
    "- Неполная поддержка вычисления градиентов в операциях с такими матрицами, список и обсуждение см. [тут](https://github.com/pytorch/pytorch/issues/9674)\n",
    "- Tensorflow также поддерживает разреженные матрицы в COO формате\n",
    "- Список поддерживаемых операций приведён [здесь](https://www.tensorflow.org/api_docs/python/tf/sparse), поддержка вычисления градиентов ограничена\n",
    "- JAX также [экспериментально поддерживает](https://jax.readthedocs.io/en/latest/jax.experimental.sparse.html) некоторые разреженные операции для COO матриц"
   ]
  },
  {
   "cell_type": "markdown",
   "metadata": {
    "slideshow": {
     "slide_type": "slide"
    }
   },
   "source": [
    "### CSR формат позволяет быстро умножить разреженную матрицу на вектор (SpMV)\n",
    "\n",
    "```python\n",
    "\n",
    "   for i in range(n):\n",
    "        \n",
    "        for k in range(ia[i]:ia[i+1]):\n",
    "            \n",
    "            y[i] += sa[k] * x[ja[k]]\n",
    "```"
   ]
  },
  {
   "cell_type": "code",
   "execution_count": null,
   "metadata": {
    "slideshow": {
     "slide_type": "slide"
    }
   },
   "outputs": [],
   "source": [
    "import numpy as np\n",
    "import scipy as sp\n",
    "import scipy.sparse\n",
    "import scipy.sparse.linalg\n",
    "from scipy.sparse import csc_matrix, csr_matrix, coo_matrix\n",
    "import matplotlib.pyplot as plt\n",
    "%matplotlib inline\n",
    "n = 1000\n",
    "ex = np.ones(n);\n",
    "lp1 = sp.sparse.spdiags(np.vstack((ex,  -2*ex, ex)), [-1, 0, 1], n, n, 'csr'); \n",
    "e = sp.sparse.eye(n)\n",
    "A = sp.sparse.kron(lp1, e) + sp.sparse.kron(e, lp1)\n",
    "A = csr_matrix(A)\n",
    "rhs = np.ones(n * n)\n",
    "B = coo_matrix(A)\n",
    "%timeit A.dot(rhs)\n",
    "%timeit B.dot(rhs)"
   ]
  },
  {
   "cell_type": "markdown",
   "metadata": {
    "slideshow": {
     "slide_type": "fragment"
    }
   },
   "source": [
    "Видно, что **CSR** быстрее, и чем менее структурирован шаблон разреженности, тем выше выигрыш в скорости."
   ]
  },
  {
   "cell_type": "markdown",
   "metadata": {
    "slideshow": {
     "slide_type": "slide"
    }
   },
   "source": [
    "### Разреженные матрицы и эффективность\n",
    "\n",
    "- Использование разреженных матриц приводит к уменьшению сложности\n",
    "- Но они не очень подходят для параллельных/GPU реализаций \n",
    "- Они не показывают максимальную эффективность из-за случайного доступа к данным.  \n",
    "- Обычно, пиковая производительность порядка $10\\%-15\\%$ считается хорошей.  "
   ]
  },
  {
   "cell_type": "markdown",
   "metadata": {
    "slideshow": {
     "slide_type": "slide"
    }
   },
   "source": [
    "### Вспомним как измеряется эффективность операций\n",
    "\n",
    "- Стандартный способ измерения эффективности операций линейной алгебры – это использование **flops** (число опраций с плавающей точкой в секунду)\n",
    "\n",
    "- Измерим эффективность умножения матрицы на вектор в случае плотной и разреженной матрицы"
   ]
  },
  {
   "cell_type": "code",
   "execution_count": null,
   "metadata": {
    "slideshow": {
     "slide_type": "slide"
    }
   },
   "outputs": [],
   "source": [
    "import numpy as np\n",
    "import time\n",
    "n = 4000\n",
    "a = np.random.randn(n, n)\n",
    "v = np.random.randn(n)\n",
    "t = time.time()\n",
    "np.dot(a, v)\n",
    "t = time.time() - t\n",
    "print('Time: {0: 3.1e}, Efficiency: {1: 3.1e} Gflops'.\\\n",
    "      format(t,  ((2 * n ** 2)/t) / 10 ** 9))"
   ]
  },
  {
   "cell_type": "code",
   "execution_count": null,
   "metadata": {
    "slideshow": {
     "slide_type": "slide"
    }
   },
   "outputs": [],
   "source": [
    "n = 4000\n",
    "ex = np.ones(n);\n",
    "a = sp.sparse.spdiags(np.vstack((ex,  -2*ex, ex)), [-1, 0, 1], n, n, 'csr'); \n",
    "rhs = np.random.randn(n)\n",
    "t = time.time()\n",
    "a.dot(rhs)\n",
    "t = time.time() - t\n",
    "print('Time: {0: 3.1e}, Efficiency: {1: 3.1e} Gflops'.\\\n",
    "      format(t,  (3 * n) / t / 10 ** 9))"
   ]
  },
  {
   "cell_type": "markdown",
   "metadata": {
    "slideshow": {
     "slide_type": "slide"
    }
   },
   "source": [
    "### Случайный доступ к данным и промахи в обращении к кешу\n",
    "\n",
    "- Сначала все элементы матрицы и вектора хранятся в оперативной памяти (RAM – Random Access Memory)\n",
    "- Если вы хотите вычислить произведение матрицы на вектор, часть элементов матрицы и вектора перемещаются в кеш (быстрой памяти малого объёма), см. [лекцию об алгоритме Штрассена и умножении матриц](https://github.com/amkatrutsa/nla2020_ozon/blob/master/lectures/lecture4/lecture4.ipynb)\n",
    "- После этого CPU берёт данные из кеша, обрабатывает их и возвращает результат снова в кеш\n",
    "- Если CPU требуются данные, которых ещё нет в кеше, это называется промах в обращении к кешу (cache miss)\n",
    "- Если случается промах в обращении к кешу, необходимые данные перемещаются из оперативной памяти в кеш\n",
    "\n",
    "**Q**: что если в кеше нет свободного места?\n",
    "\n",
    "\n",
    "- Чем больше промахов в обращении к кешу, тем медленнее выполняются вычисления"
   ]
  },
  {
   "cell_type": "markdown",
   "metadata": {
    "slideshow": {
     "slide_type": "slide"
    }
   },
   "source": [
    "### План кеша и LRU\n",
    "\n",
    "<img src=\"./cache_scheme.png\" width=\"500\">"
   ]
  },
  {
   "cell_type": "markdown",
   "metadata": {
    "slideshow": {
     "slide_type": "slide"
    }
   },
   "source": [
    "#### Умножение матрицы в CSR формате на вектор\n",
    "\n",
    "```python\n",
    "\n",
    "   for i in range(n):\n",
    "        \n",
    "        for k in range(ia[i]:ia[i+1]):\n",
    "            \n",
    "            y[i] += sa[k] * x[ja[k]]\n",
    "            \n",
    "```\n",
    "\n",
    "- Какая часть операций приводит к промахам в обращении к кешу?\n",
    "- Как эту проблему можно решить?"
   ]
  },
  {
   "cell_type": "markdown",
   "metadata": {
    "slideshow": {
     "slide_type": "slide"
    }
   },
   "source": [
    "### Переупорядочивание уменьшает количество промахов в обращении к кешу\n",
    "\n",
    "- Если ```ja``` хранит последовательно элементы, тогда они могут быть перемещены в кеш одновременно и количество промахов в обращении к кешу уменьшится\n",
    "- Так происходит, когда разреженная матрица является **ленточной** или хотя бы блочно-диагональной\n",
    "- Мы можем превратить данную разреженную матрицу в ленточную или блочно-диагональную с помощью *перестановок* \n",
    "\n",
    "- Пусть $P$ матрица перестановок строк матрицы и $Q$ матрица перестановок столбцов матрицы\n",
    "- $A_1 = PAQ$ – матрица с шириной ленты меньшей, чем у матрицы $A$\n",
    "- $y = Ax \\to \\tilde{y} = A_1 \\tilde{x}$, где $\\tilde{x} = Q^{\\top}x$ и $\\tilde{y} = Py$\n",
    "- [Separated block diagonal form](http://albert-jan.yzelman.net/PDFs/yzelman09-rev.pdf) призван минимизировать количество промахов в обращении к кешу\n",
    "- Он также может быть расширен на двумерный случай, где разделяются не только строки, но и столбцы"
   ]
  },
  {
   "cell_type": "markdown",
   "metadata": {
    "slideshow": {
     "slide_type": "slide"
    }
   },
   "source": [
    "#### Пример\n",
    "\n",
    "- SBD в одномерном случае\n",
    "<img src=\"./sbd.png\" width=\"400\">"
   ]
  },
  {
   "cell_type": "markdown",
   "metadata": {
    "slideshow": {
     "slide_type": "slide"
    }
   },
   "source": [
    "## Методы решения линейных систем с разреженными матрицами\n",
    "\n",
    "- Прямые методы\n",
    "    - LU разложение\n",
    "    - Различные методы переупорядочивания для минимизации заполнения факторов\n",
    "- Крыловские методы"
   ]
  },
  {
   "cell_type": "code",
   "execution_count": null,
   "metadata": {
    "slideshow": {
     "slide_type": "fragment"
    }
   },
   "outputs": [],
   "source": [
    "n = 10\n",
    "ex = np.ones(n);\n",
    "lp1 = sp.sparse.spdiags(np.vstack((ex,  -2*ex, ex)), [-1, 0, 1], n, n, 'csr'); \n",
    "e = sp.sparse.eye(n)\n",
    "A = sp.sparse.kron(lp1, e) + sp.sparse.kron(e, lp1)\n",
    "A = csr_matrix(A)\n",
    "rhs = np.ones(n * n)\n",
    "sol = sp.sparse.linalg.spsolve(A, rhs)\n",
    "_, (ax1, ax2) = plt.subplots(1, 2)\n",
    "ax1.plot(sol)\n",
    "ax1.set_title('Not reshaped solution')\n",
    "ax2.contourf(sol.reshape((n, n), order='f'))\n",
    "ax2.set_title('Reshaped solution')"
   ]
  },
  {
   "cell_type": "markdown",
   "metadata": {
    "slideshow": {
     "slide_type": "slide"
    }
   },
   "source": [
    "## LU разложение разреженной матрицы\n",
    "\n",
    "- Почему разреженная линейная система может быть решена быстрее, чем плотная? С помощью какого метода? \n",
    "\n",
    "- В LU разложении матрицы $A$ факторы $L$ и $U$ могут быть также разреженными:\n",
    "\n",
    "$$A = L U$$\n",
    "\n",
    "- А решение линейной системы с разреженной треугольной матрицей может быть вычислено очень быстро.  \n",
    "\n",
    "<font color='red'> Заметим, что обратная матрица от разреженной матрицы НЕ разрежена! </font>\n"
   ]
  },
  {
   "cell_type": "code",
   "execution_count": null,
   "metadata": {
    "slideshow": {
     "slide_type": "slide"
    }
   },
   "outputs": [],
   "source": [
    "n = 7\n",
    "ex = np.ones(n);\n",
    "a = sp.sparse.spdiags(np.vstack((ex,  -2*ex, ex)), [-1, 0, 1], n, n, 'csr'); \n",
    "b = np.array(np.linalg.inv(a.toarray()))\n",
    "print(a.toarray())\n",
    "print(b)"
   ]
  },
  {
   "cell_type": "markdown",
   "metadata": {
    "slideshow": {
     "slide_type": "slide"
    }
   },
   "source": [
    "## А факторы...\n",
    "\n",
    "- $L$ и $U$ обычно разрежены\n",
    "- В случае трёхдиагональной матрицы они даже бидиагональны!"
   ]
  },
  {
   "cell_type": "code",
   "execution_count": null,
   "metadata": {
    "slideshow": {
     "slide_type": "fragment"
    }
   },
   "outputs": [],
   "source": [
    "from scipy.sparse.linalg import splu\n",
    "T = splu(a.tocsc(), permc_spec=\"NATURAL\")\n",
    "plt.spy(T.L)"
   ]
  },
  {
   "cell_type": "markdown",
   "metadata": {
    "slideshow": {
     "slide_type": "slide"
    }
   },
   "source": [
    "Отметим, что ```splu``` со значением параметра ```permc_spec``` по умолчанию даёт перестановку, которая не даёт бидиагональные факторы:"
   ]
  },
  {
   "cell_type": "code",
   "execution_count": null,
   "metadata": {
    "slideshow": {
     "slide_type": "fragment"
    }
   },
   "outputs": [],
   "source": [
    "from scipy.sparse.linalg import splu\n",
    "T = splu(a.tocsc())\n",
    "plt.spy(T.L)\n",
    "print(T.perm_c)"
   ]
  },
  {
   "cell_type": "markdown",
   "metadata": {
    "slideshow": {
     "slide_type": "slide"
    }
   },
   "source": [
    "## Двумерный случай\n",
    "\n",
    "В двумерном случае всё гораздо хуже:"
   ]
  },
  {
   "cell_type": "code",
   "execution_count": null,
   "metadata": {
    "slideshow": {
     "slide_type": "fragment"
    }
   },
   "outputs": [],
   "source": [
    "n = 20\n",
    "ex = np.ones(n);\n",
    "lp1 = sp.sparse.spdiags(np.vstack((ex,  -2*ex, ex)), [-1, 0, 1], n, n, 'csr'); \n",
    "e = sp.sparse.eye(n)\n",
    "A = sp.sparse.kron(lp1, e) + sp.sparse.kron(e, lp1)\n",
    "A = csc_matrix(A)\n",
    "T = scipy.sparse.linalg.spilu(A)\n",
    "plt.spy(T.L, marker='.', color='k', markersize=8)"
   ]
  },
  {
   "cell_type": "markdown",
   "metadata": {
    "slideshow": {
     "slide_type": "slide"
    }
   },
   "source": [
    "Для правильной перестановки в двумерном случае число ненулевых элементов в $L$ растёт как $\\mathcal{O}(N \\log N)$. Однако сложность равна $\\mathcal{O}(N^{3/2})$."
   ]
  },
  {
   "cell_type": "markdown",
   "metadata": {
    "slideshow": {
     "slide_type": "slide"
    }
   },
   "source": [
    "## Разреженные матрицы и теория графов\n",
    "\n",
    "- Число ненулей в факторах из LU разложения тесно связано с теорией графов.\n",
    "\n",
    "- Пакет ``networkx`` можно использовать для визуализации графов, имея только матрицу смежности. "
   ]
  },
  {
   "cell_type": "code",
   "execution_count": null,
   "metadata": {
    "slideshow": {
     "slide_type": "slide"
    }
   },
   "outputs": [],
   "source": [
    "import networkx as nx\n",
    "n = 10\n",
    "ex = np.ones(n);\n",
    "lp1 = sp.sparse.spdiags(np.vstack((ex,  -2*ex, ex)), [-1, 0, 1], n, n, 'csr'); \n",
    "e = sp.sparse.eye(n)\n",
    "A = sp.sparse.kron(lp1, e) + sp.sparse.kron(e, lp1)\n",
    "A = csc_matrix(A)\n",
    "G = nx.Graph(A)\n",
    "nx.draw(G, pos=nx.spectral_layout(G), node_size=10)"
   ]
  },
  {
   "cell_type": "markdown",
   "metadata": {
    "slideshow": {
     "slide_type": "slide"
    }
   },
   "source": [
    "## Заполнение (fill-in)\n",
    "\n",
    "- Заполнение матрицы – это элементы, которые были **нулями**, но стали **ненулями** в процессе выполнения алгоритма.\n",
    "\n",
    "- Заполнение может быть различным для различных перестановок. Итак, до того как делать факторизацию матрицы нам необходимо переупорядочить её элементы так, чтобы заполнение факторов было наименьшим.\n",
    "\n",
    "**Пример**\n",
    "\n",
    "$$A = \\begin{bmatrix} * & * & * & * & *\\\\ * & * & 0 & 0 & 0 \\\\ * & 0  & * & 0 & 0 \\\\ * & 0 & 0& * & 0 \\\\ * & 0 & 0& 0 & * \\end{bmatrix} $$\n",
    "\n",
    "- Если мы исключаем элементы сверху вниз, тогда мы получим плотную матрицу.\n",
    "- Однако мы можем сохранить разреженность, если исключение будет проводиться снизу вверх.\n",
    "- Подробности на следующих слайдах"
   ]
  },
  {
   "cell_type": "markdown",
   "metadata": {
    "slideshow": {
     "slide_type": "fragment"
    }
   },
   "source": [
    "## Метод Гаусса для разреженных матриц\n",
    "\n",
    "- Дана матрица $A$ такая что $A=A^*>0$. \n",
    "- Вычислим её разложение Холецкого $A = LL^*$.\n",
    "\n",
    "Фактор $L$ может быть плотным даже если $A$ разреженная:\n",
    "\n",
    "$$\n",
    "\\begin{bmatrix} * & * & * & * \\\\ * & * &  &  \\\\ * &  & * &  \\\\ * &  &  & * \\end{bmatrix} = \n",
    "\\begin{bmatrix} * &  &  &  \\\\ * & * &  &  \\\\ * & * & * &  \\\\ * & * & * & * \\end{bmatrix}\n",
    "\\begin{bmatrix} * & * & * & * \\\\  & * & * & * \\\\  &  & * & * \\\\  &  &  & * \\end{bmatrix}\n",
    "$$\n",
    "\n",
    "**Q**: как сделать факторы разреженными, то есть минимизировать заполнение?"
   ]
  },
  {
   "cell_type": "markdown",
   "metadata": {
    "slideshow": {
     "slide_type": "slide"
    }
   },
   "source": [
    "## Метод Гаусса и перестановка\n",
    "\n",
    "- Нам нужно найти перестановку индексов такую что факторы будут разреженными, то есть мы будем вычислять разложение Холецкого для матрицы $PAP^\\top$, где $P$ – матрица перестановки.\n",
    "\n",
    "- Для примера с предыдущего слайда\n",
    "\n",
    "$$\n",
    "P \\begin{bmatrix} * & * & * & * \\\\ * & * &  &  \\\\ * &  & * &  \\\\ * &  &  & * \\end{bmatrix} P^\\top = \n",
    "\\begin{bmatrix} * &  &  & *  \\\\  & * &  & * \\\\  &  & * & * \\\\ * & * & * & * \\end{bmatrix} = \n",
    "\\begin{bmatrix} * &  &  &  \\\\  & * &  &  \\\\  &  & * &  \\\\ * & * & * & * \\end{bmatrix}\n",
    "\\begin{bmatrix} * &  &  & *  \\\\  & * &  & * \\\\  &  & * & * \\\\  & &  & * \\end{bmatrix}\n",
    "$$\n",
    "\n",
    "где\n",
    "\n",
    "$$\n",
    "P = \\begin{bmatrix}  &  &  & 1 \\\\  &  & 1 &  \\\\  & 1 &  &  \\\\ 1 &  &  &  \\end{bmatrix}\n",
    "$$\n",
    "\n",
    "- Такая форма матрицы даёт разреженные факторы в LU разложении"
   ]
  },
  {
   "cell_type": "code",
   "execution_count": null,
   "metadata": {
    "slideshow": {
     "slide_type": "slide"
    }
   },
   "outputs": [],
   "source": [
    "import numpy as np\n",
    "import scipy.sparse as spsp\n",
    "import scipy.sparse.linalg as spsplin\n",
    "import scipy.linalg as splin\n",
    "import matplotlib.pyplot as plt\n",
    "%matplotlib inline\n",
    "\n",
    "A = spsp.coo_matrix((np.random.randn(10), ([0, 0, 0, 0, 1, 1, 2, 2, 3, 3], \n",
    "                                           [0, 1, 2, 3, 0, 1, 0, 2, 0, 3])))\n",
    "print(\"Original matrix\")\n",
    "plt.spy(A)\n",
    "plt.show()\n",
    "lu = spsplin.splu(A.tocsc(), permc_spec=\"NATURAL\")\n",
    "print(\"L factor\")\n",
    "plt.spy(lu.L)\n",
    "plt.show()\n",
    "print(\"U factor\")\n",
    "plt.spy(lu.U)\n",
    "plt.show()\n",
    "print(\"Column permutation:\", lu.perm_c)\n",
    "print(\"Row permutation:\", lu.perm_r)"
   ]
  },
  {
   "cell_type": "markdown",
   "metadata": {
    "slideshow": {
     "slide_type": "slide"
    }
   },
   "source": [
    "### Блочный случай\n",
    "\n",
    "$$\n",
    "PAP^\\top = \\begin{bmatrix} A_{11} &  & A_{13} \\\\  & A_{22} & A_{23} \\\\ A_{31} & A_{32} & A_{33}\\end{bmatrix}\n",
    "$$\n",
    "\n",
    "тогда\n",
    "\n",
    "$$\n",
    "PAP^\\top = \\begin{bmatrix} A_{11} & 0 & 0 \\\\ 0 & A_{22} & 0 \\\\ A_{31} & A_{32} & A_{33} - A_{31}A_{11}^{-1} A_{13} - A_{32}A_{22}^{-1}A_{23} \\end{bmatrix} \\begin{bmatrix}  I & 0 & A_{11}^{-1}A_{13} \\\\ 0 & I & A_{22}^{-1}A_{23} \\\\ 0 & 0 & I\\end{bmatrix}\n",
    "$$\n",
    "\n",
    "- Блок $ A_{33} - A_{31}A_{11}^{-1} A_{13} - A_{32}A_{22}^{-1}A_{23}$ является дополнением по Шуру для блочно-диагональной матрицы $\\begin{bmatrix} A_{11} & 0 \\\\ 0 & A_{22} \\end{bmatrix}$\n",
    "- Мы свели задачу к решению меньших линейных систем с матрицами $A_{11}$ и $A_{22}$ "
   ]
  },
  {
   "cell_type": "markdown",
   "metadata": {
    "slideshow": {
     "slide_type": "slide"
    }
   },
   "source": [
    "### Как найти перестановку?\n",
    "\n",
    "- Основная идея взята из теории графов\n",
    "- Разреженную матрицы можно рассматривать как **матрицу смежности** некоторого графа: вершины $(i, j)$ связаны ребром, если соответствующий элемент матрицы не ноль.\n"
   ]
  },
  {
   "cell_type": "markdown",
   "metadata": {
    "slideshow": {
     "slide_type": "slide"
    }
   },
   "source": [
    "### Пример\n",
    "\n",
    "Графы для матрицы $\\begin{bmatrix} * & * & * & * \\\\ * & * &  &  \\\\ * &  & * &  \\\\ * &  &  & * \\end{bmatrix}$ и для матрицы $\\begin{bmatrix} * &  &  & *  \\\\  & * &  & * \\\\  &  & * & * \\\\ * & * & * & * \\end{bmatrix}$ имеют следующий вид:\n",
    "\n",
    "<img src=\"./graph_dense.png\" width=300 align=\"center\"> и <img src=\"./graph_sparse.png\" width=300 align=\"center\">\n",
    "\n",
    "* Почему вторая упорядоченность лучше, чем первая?"
   ]
  },
  {
   "cell_type": "markdown",
   "metadata": {
    "slideshow": {
     "slide_type": "slide"
    }
   },
   "source": [
    "### Сепаратор графа\n",
    "\n",
    "**Определение.** Сепаратором графа $G$ называется множество вершин $S$, таких что их удаление оставляет как минимум две связные компоненты.\n",
    "\n",
    "Сепаратор $S$ даёт следующий метод нумерации вершин графа $G$:\n",
    "- Найти сепаратор $S$, удаление которого оставляет связные компоненты $T_1$, $T_2$, $\\ldots$, $T_k$\n",
    "- Номера вершин в $S$ от $N − |S| + 1$ до $N$\n",
    "- Рекурсивно, номера вершин в каждой компоненте: \n",
    "    - в $T_1$ от $1$ до $|T_1|$\n",
    "    - в $T_2$ от $|T_1| + 1$ до $|T_1| + |T_2|$\n",
    "    - и так далее\n",
    "- Если компонента достаточно мала, то нумерация внутри этой компоненты произвольная"
   ]
  },
  {
   "cell_type": "markdown",
   "metadata": {
    "slideshow": {
     "slide_type": "slide"
    }
   },
   "source": [
    "### Сепаратор и структура матрицы: пример\n",
    "\n",
    "Сепаратор для матрицы двумерного лапласиана\n",
    "\n",
    "$$\n",
    " A_{2D} = I \\otimes A_{1D} + A_{1D} \\otimes I, \\quad A_{1D} = \\mathrm{tridiag}(-1, 2, -1),\n",
    "$$\n",
    "\n",
    "имеет следующий вид\n",
    "\n",
    "<img src='./separator.png' width=300> </img>"
   ]
  },
  {
   "cell_type": "markdown",
   "metadata": {
    "slideshow": {
     "slide_type": "fragment"
    }
   },
   "source": [
    "Если мы пронумеруем сначала индексы в $\\alpha$, затем в $\\beta$, и наконец индексы в сепараторе $\\sigma$ получим следующую матрицу\n",
    "\n",
    "$$\n",
    "PAP^\\top = \\begin{bmatrix} A_{\\alpha\\alpha} &  & A_{\\alpha\\sigma} \\\\  & A_{\\beta\\beta} & A_{\\beta\\sigma} \\\\ A_{\\sigma\\alpha} & A_{\\sigma\\beta} & A_{\\sigma\\sigma}\\end{bmatrix},\n",
    "$$\n",
    "\n",
    "которая имеет подходящую структуру.\n",
    "\n",
    "- Таким образом, задача поиска перестановки была сведена к задаче поиска сепаратора графа!"
   ]
  },
  {
   "cell_type": "markdown",
   "metadata": {
    "slideshow": {
     "slide_type": "fragment"
    }
   },
   "source": [
    "### Nested dissection\n",
    "\n",
    "- Для блоков $A_{\\alpha\\alpha}$, $A_{\\beta\\beta}$ можем продолжить разбиение рекурсивно\n",
    "\n",
    "- После завершения рекурсии нужно исключить блоки $A_{\\sigma\\alpha}$ и $A_{\\sigma\\beta}$. \n",
    "\n",
    "- Это делает блок в положении $A_{\\sigma\\sigma}\\in\\mathbb{R}^{n\\times n}$ **плотным**.\n",
    "\n",
    "- Вычисление разложения Холецкого этого блока стоит $\\mathcal{O}(n^3) = \\mathcal{O}(N^{3/2})$, где $N = n^2$ – общее число вершин.\n",
    "\n",
    "- В итоге сложность $\\mathcal{O}(N^{3/2})$"
   ]
  },
  {
   "cell_type": "markdown",
   "metadata": {
    "slideshow": {
     "slide_type": "slide"
    }
   },
   "source": [
    "## Пакеты для nested dissection\n",
    "\n",
    "- MUltifrontal Massively Parallel sparse direct Solver ([MUMPS](http://mumps.enseeiht.fr/))\n",
    "- [Pardiso](https://www.pardiso-project.org/)\n",
    "- [Umfpack как часть пакета SuiteSparse](http://faculty.cse.tamu.edu/davis/suitesparse.html)\n",
    "\n",
    "У них есть интефейс для C/C++, Fortran и Matlab "
   ]
  },
  {
   "cell_type": "markdown",
   "metadata": {
    "slideshow": {
     "slide_type": "slide"
    }
   },
   "source": [
    "### Резюме про nested dissection\n",
    "\n",
    "- Нумерация свелась к поиску сепаратора\n",
    "- Подход разделяй и властвуй\n",
    "- Рекурсивно продолжается на два (или более) подмножества вершин после разделения\n",
    "- В теории nested dissection даёт оптимальную сложность (почему?)\n",
    "- На практике этот метод лучше других только на очень больших задачах"
   ]
  },
  {
   "cell_type": "markdown",
   "metadata": {
    "slideshow": {
     "slide_type": "slide"
    }
   },
   "source": [
    "## Сепараторы на практике\n",
    "\n",
    "- Вычисление сепаратора – это **нетривиальная задача!**\n",
    "\n",
    "- Построение методов разбиения графа было активной сферой научных исследований долгие годы\n",
    "\n",
    "Существующие подходы:\n",
    "\n",
    "- Спектральное разбиение (использует собственные векторы **Лапласиана графа**) – подробности далее\n",
    "- Геометрическое разбиение (для сеток с заданными координатами вершин) [обзор и анализ](http://citeseerx.ist.psu.edu/viewdoc/download?doi=10.1.1.31.4886&rep=rep1&type=pdf)\n",
    "- Итеративные перестановки ([(Kernighan-Lin, 1970)](http://xilinx.asia/_hdl/4/eda.ee.ucla.edu/EE201A-04Spring/kl.pdf), [(Fiduccia-Matheysses, 1982](https://dl.acm.org/citation.cfm?id=809204))\n",
    "- Поиск в ширину [(Lipton, Tarjan 1979)](http://www.cs.princeton.edu/courses/archive/fall06/cos528/handouts/sepplanar.pdf)\n",
    "- Многоуровневая рекурсивная бисекция (наиболее практичная эвристика) ([обзор](https://people.csail.mit.edu/jshun/6886-s18/lectures/lecture13-1.pdf) и [статья](http://citeseerx.ist.psu.edu/viewdoc/download?doi=10.1.1.499.4130&rep=rep1&type=pdf)). Пакет для подобного рода разбиений называется METIS, написан на C, и доступен [здесь](http://glaros.dtc.umn.edu/gkhome/views/metis)"
   ]
  },
  {
   "cell_type": "markdown",
   "metadata": {
    "slideshow": {
     "slide_type": "slide"
    }
   },
   "source": [
    "## Спектральное разбиение графа\n",
    "\n",
    "- Идея спектрального разбиения восходит к работам Мирослава Фидлера, который изучал связность графов ([статья](https://dml.cz/bitstream/handle/10338.dmlcz/101168/CzechMathJ_23-1973-2_11.pdf)).\n",
    "\n",
    "- Нам нужно разбить вершинеы графа на 2 множества\n",
    "\n",
    "- Рассмотрим метки вершин +1/-1 и **функцию потерь**\n",
    "\n",
    "$$E_c(x) = \\sum_{j} \\sum_{i \\in N(j)} (x_i - x_j)^2, \\quad N(j) \\text{ обозначает множество соседей вершины } j. $$\n",
    "\n",
    "Нам нужно сбалансированное разбиение, поэтому\n",
    "\n",
    "$$\\sum_i x_i =  0 \\quad \\Longleftrightarrow \\quad x^\\top e = 0, \\quad e = \\begin{bmatrix}1 & \\dots & 1\\end{bmatrix}^\\top,$$\n",
    "\n",
    "и поскольку мы ввели метки +1/-1, то выполнено\n",
    "\n",
    "$$\\sum_i x^2_i = n \\quad \\Longleftrightarrow \\quad \\|x\\|_2^2 = n.$$"
   ]
  },
  {
   "cell_type": "markdown",
   "metadata": {
    "slideshow": {
     "slide_type": "slide"
    }
   },
   "source": [
    "## Лапласиан графа\n",
    "\n",
    "Функция потерь $E_c$ может быть записана в виде (проверьте почему)\n",
    "\n",
    "$$E_c = (Lx, x)$$\n",
    "\n",
    "где $L$ – **Лапласиан графа**, который определяется как симметричная матрица с элементами\n",
    "\n",
    "$$L_{ii} = \\mbox{степень вершины $i$},$$\n",
    "\n",
    "$$L_{ij} = -1, \\quad \\mbox{если $i \\ne j$  и существует ребро},$$\n",
    "\n",
    "и $0$ иначе.\n",
    "\n",
    "- Строчные суммы в матрице $L$ равны нулю, поэтому существует собственное значение $0$, которое даёт собственный вектор из всех 1.\n",
    "- Собственные значения неотрицательны (почему?)."
   ]
  },
  {
   "cell_type": "markdown",
   "metadata": {
    "slideshow": {
     "slide_type": "slide"
    }
   },
   "source": [
    "## Разбиение как задача оптимизации\n",
    "\n",
    "- Минимизация $E_c$ с упомянутыми ограничениями приводит к разбиению, которое минимизирует число вершин в сепараторе, но сохраняет разбиение сбалансированным\n",
    "\n",
    "- Теперь мы запишем релаксацию целочисленной задачи квадратичного программирования в форме непрерывной задачи квадратичного программирования\n",
    "\n",
    "$$E_c(x) = (Lx, x)\\to \\min_{\\substack{x^\\top e =0, \\\\ \\|x\\|_2^2 = n}}$$"
   ]
  },
  {
   "cell_type": "markdown",
   "metadata": {
    "slideshow": {
     "slide_type": "slide"
    }
   },
   "source": [
    "## Вектор Фидлера\n",
    "\n",
    "- Решение этой задачи минимизации – собственный вектор матрицы $L$, соответствующий **второму** минимальному собственному значению (он называется вектором Фидлера)\n",
    "- В самом деле,\n",
    "\n",
    "$$\n",
    "    \\min_{\\substack{x^\\top e =0, \\\\ \\|x\\|_2^2 = n}} (Lx, x) = n \\cdot \\min_{{x^\\top e =0}} \\frac{(Lx, x)}{(x, x)} = n \\cdot \\min_{{x^\\top e =0}} R(x), \\quad R(x) \\text{ отношение Релея}\n",
    "$$\n",
    "\n",
    "- Поскольку $e$ – собственный вектор, соответствующий наименьшему собственному значению, то на подпространстве $x^\\top e =0$ мы получим второе минимальное собственное значение.\n",
    "\n",
    "- Знак $x_i$ обозначает разбиение графа.\n",
    "\n",
    "- Осталось понять, как вычислить этот вектор. Мы знаем про степенной метод, но он ищет собственный вектор для максимального по модулю собственного значения.\n",
    "- Итерационные методы для задачи на собственные значения будут рассмотрены далее в курсе...\n"
   ]
  },
  {
   "cell_type": "code",
   "execution_count": null,
   "metadata": {
    "slideshow": {
     "slide_type": "slide"
    }
   },
   "outputs": [],
   "source": [
    "import numpy as np\n",
    "%matplotlib inline\n",
    "import matplotlib.pyplot as plt\n",
    "import networkx as nx\n",
    "kn = nx.read_gml('karate.gml')\n",
    "print(\"Number of vertices = {}\".format(kn.number_of_nodes()))\n",
    "print(\"Number of edges = {}\".format(kn.number_of_edges()))\n",
    "nx.draw_networkx(kn, node_color=\"red\") #Draw the graph"
   ]
  },
  {
   "cell_type": "code",
   "execution_count": null,
   "metadata": {
    "slideshow": {
     "slide_type": "slide"
    }
   },
   "outputs": [],
   "source": [
    "Laplacian = nx.laplacian_matrix(kn).asfptype()\n",
    "plt.spy(Laplacian, markersize=5)\n",
    "plt.title(\"Graph laplacian\")\n",
    "plt.axis(\"off\")\n",
    "plt.show()\n",
    "eigval, eigvec = spsplin.eigsh(Laplacian, k=2, which=\"SM\")\n",
    "print(\"The 2 smallest eigenvalues =\", eigval)"
   ]
  },
  {
   "cell_type": "code",
   "execution_count": null,
   "metadata": {
    "slideshow": {
     "slide_type": "slide"
    }
   },
   "outputs": [],
   "source": [
    "plt.scatter(np.arange(len(eigvec[:, 1])), np.sign(eigvec[:, 1]))\n",
    "plt.show()\n",
    "print(\"Sum of elements in Fiedler vector = {}\".format(np.sum(eigvec[:, 1].real)))"
   ]
  },
  {
   "cell_type": "code",
   "execution_count": null,
   "metadata": {
    "slideshow": {
     "slide_type": "slide"
    }
   },
   "outputs": [],
   "source": [
    "nx.draw_networkx(kn, node_color=np.sign(eigvec[:, 1]))"
   ]
  },
  {
   "cell_type": "markdown",
   "metadata": {
    "slideshow": {
     "slide_type": "slide"
    }
   },
   "source": [
    "### Резюме по примеру использования спектрального разбиения графа\n",
    "\n",
    "- Мы вызвали функцию из SciPy для поиска фиксированного числа собственных векторов и собственных значений, которые минимальны (возможны другие опции)\n",
    "- Детали методов, которые реализованы в этих функциях, обсудим уже скоро\n",
    "- Вектор Фидлера даёт простой способ разбиения графа\n",
    "- Для разбиения графа на большее количество частей следует использовать собственные векторы Лапласиана как векторы признаков и запустить какой-нибудь алгоритм кластеризации, например $k$-means"
   ]
  },
  {
   "cell_type": "markdown",
   "metadata": {
    "slideshow": {
     "slide_type": "slide"
    }
   },
   "source": [
    "### Вектор Фидлера и алгебраическая связность графа\n",
    "\n",
    "**Определение.** Алгебраическая связность графа – это второе наименьшее собственное значение матрицы Лапласиана графа.\n",
    "\n",
    "**Утверждение.** Алгебраическая связность графа больше 0 тогда и только тогда, когда граф связный."
   ]
  },
  {
   "cell_type": "markdown",
   "metadata": {
    "slideshow": {
     "slide_type": "slide"
    }
   },
   "source": [
    "## Minimal degree orderings\n",
    "\n",
    "- Идея в том, чтобы исклоючить строки и/или столбцы с малым числом ненулей, обновить заполнение и повторить.\n",
    "\n",
    "- Эффективная реализация является отдельной задачей (добавление/удаление элементов).\n",
    "\n",
    "- На практике часто лучше всего для задач среднего размера\n",
    "\n",
    "- SciPy [использует](https://docs.scipy.org/doc/scipy-1.3.0/reference/generated/scipy.sparse.linalg.splu.html) этот подход для различных матриц ($A^{\\top}A$, $A + A^{\\top}$) "
   ]
  },
  {
   "cell_type": "markdown",
   "metadata": {
    "slideshow": {
     "slide_type": "slide"
    }
   },
   "source": [
    "## Главное в сегодняшней лекции\n",
    "\n",
    "- Плотные матрицы большого размера и распределённые вычисления\n",
    "- Разреженные матрицы, приложения и форматы их хранения\n",
    "- Эффективные способы умножения разреженной матрицы на вектор\n",
    "- LU разложение разреженной матрицы: заполнение и перестановки строк\n",
    "- Минимизация заполнения: сепараторы и разбиение графа\n",
    "- Nested dissection\n",
    "- Спектральное разбиение графа: Лапласиан графа и вектор Фидлера"
   ]
  },
  {
   "cell_type": "code",
   "execution_count": null,
   "metadata": {
    "slideshow": {
     "slide_type": "skip"
    }
   },
   "outputs": [],
   "source": [
    "from IPython.core.display import HTML\n",
    "def css_styling():\n",
    "    styles = open(\"../styles/custom.css\", \"r\").read()\n",
    "    return HTML(styles)\n",
    "css_styling()"
   ]
  }
 ],
 "metadata": {
  "celltoolbar": "Slideshow",
  "kernelspec": {
   "display_name": "Python 3 (ipykernel)",
   "language": "python",
   "name": "python3"
  },
  "language_info": {
   "codemirror_mode": {
    "name": "ipython",
    "version": 3
   },
   "file_extension": ".py",
   "mimetype": "text/x-python",
   "name": "python",
   "nbconvert_exporter": "python",
   "pygments_lexer": "ipython3",
   "version": "3.10.6"
  }
 },
 "nbformat": 4,
 "nbformat_minor": 4
}
