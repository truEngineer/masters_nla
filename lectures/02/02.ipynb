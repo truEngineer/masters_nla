{
 "cells": [
  {
   "cell_type": "code",
   "execution_count": null,
   "metadata": {
    "slideshow": {
     "slide_type": "skip"
    }
   },
   "outputs": [],
   "source": [
    "from traitlets.config.manager import BaseJSONConfigManager\n",
    "import jupyter_core\n",
    "# path = \"/Users/i.oseledets/anaconda2/envs/teaching/etc/jupyter/nbconfig\"\n",
    "cm = BaseJSONConfigManager(config_dir=path)\n",
    "cm.update(\"livereveal\", {\n",
    "              \"theme\": \"sky\",\n",
    "              \"transition\": \"zoom\",\n",
    "              \"start_slideshow_at\": \"selected\",\n",
    "               \"scroll\": True\n",
    "})\n"
   ]
  },
  {
   "cell_type": "markdown",
   "metadata": {
    "slideshow": {
     "slide_type": "slide"
    }
   },
   "source": [
    "# Лекция 2. Матричные нормы и унитарные матрицы."
   ]
  },
  {
   "cell_type": "markdown",
   "metadata": {
    "slideshow": {
     "slide_type": "slide"
    }
   },
   "source": [
    "## План\n",
    "\n",
    "- Матричные и операторные нормы\n",
    "- Унитарные матрицы: примеры и свойства"
   ]
  },
  {
   "cell_type": "markdown",
   "metadata": {
    "slideshow": {
     "slide_type": "slide"
    }
   },
   "source": [
    "## Матрицы и матричные нормы\n",
    "\n",
    "- Векторные нормы позволяли измерить размер вектора и расстояние между векторами\n",
    "\n",
    "- Как обобщить эту концепцию на матрицы?\n",
    "\n",
    "- Если считать матрицу вектором, элементы которого переставлены в другом порядке, то мы по аналогии с евклидовой нормой вектора получим фробениусову норму матрицы:\n",
    "\n",
    "$$\n",
    "  \\Vert A \\Vert_F \\stackrel{\\mathrm{def}}{=} \\Big(\\sum_{i=1}^n \\sum_{j=1}^m |a_{ij}|^2\\Big)^{1/2}\n",
    "$$"
   ]
  },
  {
   "cell_type": "markdown",
   "metadata": {
    "slideshow": {
     "slide_type": "slide"
    }
   },
   "source": [
    "## Матричные нормы\n",
    "\n",
    "$\\Vert \\cdot \\Vert$ называется матричной нормой, если это векторная норма на векторном пространстве матриц размера $n \\times m$:\n",
    "1. $\\|A\\| \\geq 0$ и если $\\|A\\| = 0$ то $A = O$\n",
    "3. $\\|\\alpha A\\| = |\\alpha| \\|A\\|$\n",
    "4. $\\|A+B\\| \\leq \\|A\\| + \\|B\\|$ (неравенство треугольника)\n",
    "\n",
    "Дополнительно некоторые нормы обладают свойством субмультипликативности\n",
    "\n",
    "* <font color='red'> $\\Vert A B \\Vert \\leq \\Vert A \\Vert \\Vert B \\Vert$ </font>\n",
    "\n",
    "Эти нормы также называются **субмультипликативными нормами**.\n",
    "\n",
    "Это свойство необходимо во многих случаях, например для оценки ошибки решения линейной системы (позднее обсудим эту тему). \n",
    "\n",
    "Примером не субмультипликативной нормы является чебышёвская норма\n",
    "\n",
    "$$\n",
    "\\|A\\|_C = \\displaystyle{\\max_{i,j}}\\, |a_{ij}|\n",
    "$$"
   ]
  },
  {
   "cell_type": "markdown",
   "metadata": {
    "slideshow": {
     "slide_type": "slide"
    }
   },
   "source": [
    "## Операторные нормы\n",
    "\n",
    "Наиболее важным классом матричных норм являются **операторные нормы**, которые определяются следующим образом\n",
    "\n",
    "$$\n",
    "    \\Vert A \\Vert_{*,**} = \\sup_{x \\ne 0} \\frac{\\Vert A x \\Vert_*}{\\Vert x \\Vert_{**}},\n",
    "$$\n",
    "\n",
    "где $\\Vert \\cdot \\Vert_*$ и $\\| \\cdot \\|_{**}$ **векторные нормы**.\n",
    "\n",
    "Легко проверить, что операторные нормы являются субмультипликативными."
   ]
  },
  {
   "cell_type": "markdown",
   "metadata": {
    "slideshow": {
     "slide_type": "slide"
    }
   },
   "source": [
    "## Матричные $p$-нормы\n",
    "\n",
    "Важный класс операторных норм – матричные $p$-нормы, которые определены для $\\|\\cdot\\|_* = \\|\\cdot\\|_{**} = \\|\\cdot\\|_p$. <br>\n",
    "\n",
    "Среди всех $p$-норм три нормы наиболее часто используются:  \n",
    "\n",
    "- $p = 1, \\quad \\Vert A \\Vert_{1} = \\displaystyle{\\max_j \\sum_{i=1}^n} |a_{ij}|$.\n",
    "\n",
    "- $p = 2, \\quad$ спектральная норма, обозначается как $\\Vert A \\Vert_2$.\n",
    "\n",
    "- $p = \\infty, \\quad \\Vert A \\Vert_{\\infty} = \\displaystyle{\\max_i \\sum_{j=1}^m} |a_{ij}|$.\n",
    "\n",
    "Покажем справедливость выражения для $p=\\infty$ на доске."
   ]
  },
  {
   "cell_type": "markdown",
   "metadata": {
    "slideshow": {
     "slide_type": "slide"
    }
   },
   "source": [
    "## Спектральная норма\n",
    "\n",
    "- Спектральная норма, $\\Vert A \\Vert_2$, одна из наиболее часто используемых, наряду с нормой Фробениуса\n",
    "- Она не может быть вычислена напрямую через элементы матрицы, но для её вычисления существуют эффективные алгоритмы\n",
    "- Она напрямую связана с сингулярным разложением матрицы (SVD) поскольку выполнено следующее равенство\n",
    "\n",
    "$$\n",
    "   \\Vert A \\Vert_2 = \\sigma_1(A) = \\sqrt{\\lambda_\\max(A^*A)}\n",
    "$$\n",
    "\n",
    "где $\\sigma_1(A)$ – максимальное сингулярное число матрицы $A$. \n",
    "\n",
    "- Подробнее про SVD будет рассказано далее, а сейчас давайте вычислим все вышеупомянутые нормы"
   ]
  },
  {
   "cell_type": "code",
   "execution_count": 15,
   "metadata": {
    "slideshow": {
     "slide_type": "slide"
    }
   },
   "outputs": [
    {
     "name": "stdout",
     "output_type": "stream",
     "text": [
      "Spectral: 55.06036768932167 \n",
      "Frobenius: 446.9316116203868 \n",
      "1-norm: 102.20049588176245 \n",
      "infinity: 1649.7258667392314\n"
     ]
    }
   ],
   "source": [
    "import numpy as np\n",
    "n = 100\n",
    "m = 2000\n",
    "a = np.random.randn(n, m) # Random n x n matrix\n",
    "s1 = np.linalg.norm(a, 2) # Spectral\n",
    "s2 = np.linalg.norm(a, 'fro') # Frobenius\n",
    "s3 = np.linalg.norm(a, 1) # 1-norm\n",
    "s4 = np.linalg.norm(a, np.inf) \n",
    "print('Spectral: {0:} \\nFrobenius: {1:} \\n1-norm: {2:} \\ninfinity: {3:}'.format(s1, s2, s3, s4))"
   ]
  },
  {
   "cell_type": "markdown",
   "metadata": {
    "slideshow": {
     "slide_type": "slide"
    }
   },
   "source": [
    "## Примеры\n",
    "\n",
    "Несколько примеров задач оптимизации, в которых необходимы матричные нормы:\n",
    "* <font color='red'> $\\displaystyle{\\min_{\\mathrm{rank}(A_r)=r}}\\| A - A_r\\|$ </font> –– задача нахождения наилучшей малоранговой аппроксимации матрицы $A$. SVD помогает решить эту задачу для спектральной нормы $\\|\\cdot\\|_2$ и фробениусовой нормы $\\|\\cdot\\|_F$.\n",
    "\n",
    "\n",
    "* $\\displaystyle{\\min_B}\\| P_\\Omega \\odot(A - B)\\| + \\lambda \\cdot \\mathrm{rank}(B)$ –– задача заполнения матрицы (matrix completion problem). \n",
    "$$\n",
    "(P_\\Omega)_{ij} = \\begin{cases} 1 & i,j\\in\\Omega \\\\ 0 & \\text{otherwise} \\end{cases}\n",
    "$$\n",
    "$\\odot$ обозначает произведение Адамара (поэлементное)\n",
    "\n",
    "\n",
    "* $\\displaystyle{\\min_{B\\geq 0,C\\geq 0}} \\|A - BC\\|$ –– неотрицательное матричное разложение (nonnegative matrix factorization). Запись $B\\geq0$ означает, что все элементы $B$ неотрицательны."
   ]
  },
  {
   "cell_type": "markdown",
   "metadata": {
    "slideshow": {
     "slide_type": "slide"
    }
   },
   "source": [
    "## Скалярное произведение\n",
    "\n",
    "Если норма помогает измерять расстояние, то **скалярное произведение** позволяет учесть угол между объектами.  \n",
    "\n",
    "Скалярное произведение определено\n",
    "\n",
    "* **для векторов:**\n",
    "$$\n",
    "   (x, y) =  x^{\\top} y = \\sum_{i=1}^n x_i y_i.\n",
    "$$\n",
    "Тогда евклидова норма записывается как\n",
    "$$\n",
    "   \\Vert x \\Vert_2 = \\sqrt{(x, x)};\n",
    "$$  \n",
    "\n",
    "\n",
    "* **для матриц**:\n",
    "$$\n",
    "    (A, B)_F = \\displaystyle{\\sum_{i=1}^{n}\\sum_{j=1}^{m}} a_{ij} b_{ij} \\equiv \\mathrm{trace}(A^{\\top} B),\n",
    "$$\n",
    "где $\\mathrm{trace}(A)$ обозначает след матрицы, то есть сумму диагональных элементов. \n",
    "\n",
    "**Упражнение:** покажите, что $\\|A\\|_F = \\sqrt{(A, A)_F}$."
   ]
  },
  {
   "cell_type": "markdown",
   "metadata": {
    "slideshow": {
     "slide_type": "slide"
    }
   },
   "source": [
    "**Замечание**. Угол между векторами или матрицами определяется как\n",
    "\n",
    "$$\n",
    "   \\cos \\phi = \\frac{(x, y)}{\\Vert x \\Vert_2 \\Vert y \\Vert_2}.\n",
    "$$"
   ]
  },
  {
   "cell_type": "markdown",
   "metadata": {
    "slideshow": {
     "slide_type": "slide"
    }
   },
   "source": [
    "## Матрицы, сохраняющие норму\n",
    "\n",
    "- Для устойчивости вычислений необходимо, чтобы ошибка не возростала после применения некоторого преобразования. Найдём эти преобразования. \n",
    "\n",
    "- Пусть дан вектор $\\widehat{x}$ – аппроксимация вектора $x$ такая что,  \n",
    "\n",
    "$$\n",
    "  \\frac{\\Vert x - \\widehat{x} \\Vert}{\\Vert x \\Vert} \\leq \\varepsilon.\n",
    "$$\n",
    "\n",
    "- Вычислим образ векторов $x$ и $\\widehat{x}$ после применения линейного преобразования $U$:  \n",
    "\n",
    "$$\n",
    "   y = U x, \\quad \\widehat{y} = U \\widehat{x}.\n",
    "$$\n",
    "\n",
    "- Для построения алгоритмов необходимо использовать преобразования, которые не увеличивают (или даже сохраняют) ошибку:\n",
    "\n",
    "$$\n",
    "   \\frac{\\Vert y - \\widehat{y} \\Vert}{\\Vert y \\Vert } = \\frac{\\Vert U ( x - \\widehat{x}) \\Vert}{\\Vert U  x\\Vert}  \\leq \\varepsilon.\n",
    "$$"
   ]
  },
  {
   "cell_type": "markdown",
   "metadata": {
    "slideshow": {
     "slide_type": "slide"
    }
   },
   "source": [
    "Вопрос состоит в том, какой класс матриц не меняет норму вектора после умножения матрицы из этого класса на вектор?\n",
    "\n",
    "$$\n",
    "\\frac{\\Vert U ( x - \\widehat{x}) \\Vert}{\\Vert U  x\\Vert} = \\frac{ \\|x - \\widehat{x}\\|}{\\|x\\|}.\n",
    "$$\n",
    "\n",
    "Для евклидовой нормы $\\|\\cdot\\|_2$ таким свойством обладают **унитарные** (или ортогональные) матрицы."
   ]
  },
  {
   "cell_type": "markdown",
   "metadata": {
    "slideshow": {
     "slide_type": "slide"
    }
   },
   "source": [
    "## Унитарные (ортогональные) матрицы\n",
    "\n",
    "Пусть $U$ комплексная $n \\times n$ матрица, и $\\Vert U z \\Vert_2 = \\Vert z \\Vert_2$ для вех $z$. \n",
    "\n",
    "Это выполнено тогда и только тогда, когда\n",
    "\n",
    "$$\n",
    "   U^* U = I_n,\n",
    "$$\n",
    "\n",
    "где $I_n$ единичная матрица $n\\times n$.\n",
    "\n",
    "Комплексная $n\\times n$ квадратная матрица называется **унитарной** если\n",
    "\n",
    "$$\n",
    "    U^*U = UU^* = I_n,\n",
    "$$\n",
    "\n",
    "что означает, что столбцы и строки матрицы образуют базис в $\\mathbb{C}^{n}$."
   ]
  },
  {
   "cell_type": "markdown",
   "metadata": {
    "slideshow": {
     "slide_type": "slide"
    }
   },
   "source": [
    "## Свойство ортогональных матриц\n",
    "\n",
    "Произведение двух унитарных матриц – унитарная матрица:  \n",
    "\n",
    "$$(UV)^* UV = V^* (U^* U) V = V^* V = I,$$\n",
    "\n",
    "- Позже мы покажем, что существуют классы унитарных матриц, произведение которых может дать произвольную унитарную матрицу \n",
    "- Эта идея лежит в основе некоторых алгоритмов, например вычисления QR разложения"
   ]
  },
  {
   "cell_type": "markdown",
   "metadata": {
    "slideshow": {
     "slide_type": "slide"
    }
   },
   "source": [
    "## Примеры  унитарных матриц\n",
    "\n",
    "Два важных класса унитарных матриц, произведение которых может дать любую унитарную матрицу:\n",
    "1. Матрицы Хаусхолдера\n",
    "2. Матрицы Гивенса\n",
    "\n",
    "Этот факт станет очевидным после того, как мы рассмотрим QR разложение и способы его вычисления.\n",
    "\n",
    "Другие важные примеры\n",
    "* **матрица перестановки** $P$ строки (столбцы) которой получены перестановкой строк (столбцов) единичной матрицы.\n",
    "* **матрица Фурье** $F_n = \\frac{1}{\\sqrt{n}} \\left\\{ e^{-i\\frac{2\\pi kl}{n}}\\right\\}_{k,l=0}^{n-1}$"
   ]
  },
  {
   "cell_type": "markdown",
   "metadata": {
    "slideshow": {
     "slide_type": "slide"
    }
   },
   "source": [
    "## Матрица Хаусхолдера\n",
    "\n",
    "Матрица Хаусхолдера – это матрица вида \n",
    "\n",
    "$$H \\equiv H(v) = I - 2 vv^*,$$\n",
    "\n",
    "где $v$ – $n \\times 1$ вектор и $v^* v = 1$. Покажите, что $H$ унитарна и Эрмитова. Это также матрица отражения относительно плоскости с нормалью $v$:\n",
    "\n",
    "$$ Hx = x - 2(v^* x) v$$\n",
    "\n",
    "<img src=\"./householder.jpeg\">  "
   ]
  },
  {
   "cell_type": "markdown",
   "metadata": {
    "slideshow": {
     "slide_type": "slide"
    }
   },
   "source": [
    "## Важное свойство матрицы Хаусхолдера\n",
    "\n",
    "Преобразование Хаусхолдера может занулить все элементы в столбце матрицы, кроме первого:\n",
    "\n",
    "$$\n",
    "    H \\begin{bmatrix} \\times \\\\ \\times \\\\ \\times \\\\ \\times  \\end{bmatrix} = \n",
    "      \\begin{bmatrix} \\times \\\\ 0 \\\\ 0 \\\\ 0  \\end{bmatrix}.\n",
    "$$\n",
    "\n",
    "Доказательство на семинаре."
   ]
  },
  {
   "cell_type": "markdown",
   "metadata": {
    "slideshow": {
     "slide_type": "slide"
    }
   },
   "source": [
    "## Матрица Гивенса\n",
    "\n",
    "Матрица Гивенса имеет вид\n",
    "\n",
    "$$\n",
    "    G = \\begin{bmatrix}\n",
    "          \\cos \\alpha & -\\sin \\alpha \\\\\n",
    "          \\sin \\alpha & \\cos \\alpha\n",
    "        \\end{bmatrix},\n",
    "$$\n",
    "\n",
    "что является поворотом на угол $\\alpha$ на плоскости. В общем случае, выберем две плоскости $(i, j)$ и повернём вектор $x$  \n",
    "\n",
    "$$\n",
    "x' = G x,\n",
    "$$\n",
    "\n",
    "только в $i$-ой и $j$-ой координатах:\n",
    "\n",
    "$$\n",
    "    x'_i =  x_i\\cos \\alpha - x_j\\sin \\alpha , \\quad x'_j = x_i \\sin \\alpha  +  x_j\\cos\\alpha,\n",
    "$$\n",
    "\n",
    "и оставим остальные координаты $x_i$ неизменными.\n",
    "\n",
    "Поэтому мы можем занулить элемент в позиции $j$, если выберем $\\alpha$ так что\n",
    "$$\n",
    "     \\cos \\alpha = \\frac{x_i}{\\sqrt{x_i^2 + x_j^2}}, \\quad \\sin \\alpha = -\\frac{x_j}{\\sqrt{x_i^2 + x_j^2}}\n",
    "$$"
   ]
  },
  {
   "cell_type": "code",
   "execution_count": 16,
   "metadata": {
    "slideshow": {
     "slide_type": "slide"
    }
   },
   "outputs": [
    {
     "data": {
      "text/plain": [
       "(-1.0, 1.0)"
      ]
     },
     "execution_count": 16,
     "metadata": {},
     "output_type": "execute_result"
    },
    {
     "data": {
      "image/png": "[encoded data removed]",
      "text/plain": [
       "<Figure size 432x288 with 1 Axes>"
      ]
     },
     "metadata": {
      "needs_background": "light"
     },
     "output_type": "display_data"
    }
   ],
   "source": [
    "import numpy as np\n",
    "import matplotlib.pyplot as plt\n",
    "%matplotlib inline\n",
    "\n",
    "alpha = -3*np.pi / 4\n",
    "G = np.array([\n",
    "    [np.cos(alpha), -np.sin(alpha)],\n",
    "    [np.sin(alpha), np.cos(alpha)]\n",
    "])\n",
    "x = np.array([-1./np.sqrt(2), 1./np.sqrt(2)])\n",
    "y = G.dot(x)\n",
    "\n",
    "plt.quiver([0, 0], [0, 0], [x[0], y[0]], [x[1], y[1]], angles='xy', scale_units='xy', scale=1)\n",
    "plt.xlim(-1., 1.)\n",
    "plt.ylim(-1., 1.)"
   ]
  },
  {
   "cell_type": "markdown",
   "metadata": {
    "slideshow": {
     "slide_type": "slide"
    }
   },
   "source": [
    "## Сингулярное разложение (SVD)\n",
    "\n",
    "SVD расмотрим более подробно далее в курсе. Пока же приведём теорему о его существовании.\n",
    "\n",
    "**Теорема.** Любая матрица $A\\in \\mathbb{C}^{n\\times m}$ может быть записана как произведение трёх матриц:  \n",
    "\n",
    "$$\n",
    "   A = U \\Sigma V^*,\n",
    "$$\n",
    "\n",
    "где \n",
    "- $U$ унитарная матрица $n \\times n$\n",
    "- $V$ унитарная матрица $m \\times m$\n",
    "- $\\Sigma$ диагональная матрица с неотрицательными диагональными элементами $\\sigma_1 \\geq  \\ldots, \\geq \\sigma_{\\min (m,n)}$.\n",
    "\n",
    "Более того, если $\\text{rank}(A) = r$, тогда $\\sigma_{r+1} = \\dots = \\sigma_{\\min (m,n)} = 0$.\n",
    "\n",
    "Если заменить все сингулярные числа кроме первых $r$ нулями, то результат будет наилучшим приближением ранга $r$ исходной матрицы в нормах $\\|\\cdot\\|_2$ и $\\|\\cdot\\|_F$. Это утверждение называется теоремой Eckart'a-Young'a и будет доказано позже в нашем курсе."
   ]
  },
  {
   "cell_type": "markdown",
   "metadata": {
    "slideshow": {
     "slide_type": "slide"
    }
   },
   "source": [
    "## Главное в этой лекции\n",
    "\n",
    "- Матричные нормы: оределения и примеры\n",
    "- Унитарные матрицы: примеры и свойства\n",
    "- Важные частные случаи: вращения и отражения"
   ]
  }
 ],
 "metadata": {
  "celltoolbar": "Slideshow",
  "kernelspec": {
   "display_name": "Python 3",
   "language": "python",
   "name": "python3"
  },
  "language_info": {
   "codemirror_mode": {
    "name": "ipython",
    "version": 3
   },
   "file_extension": ".py",
   "mimetype": "text/x-python",
   "name": "python",
   "nbconvert_exporter": "python",
   "pygments_lexer": "ipython3",
   "version": "3.7.7"
  }
 },
 "nbformat": 4,
 "nbformat_minor": 2
}
